{
  "cells": [
    {
      "cell_type": "code",
      "execution_count": 1,
      "metadata": {
        "id": "JEzEsvbAccOY"
      },
      "outputs": [],
      "source": [
        "import numpy as np\n",
        "from PIL import Image, ImageOps\n",
        "import matplotlib.pyplot as plt\n",
        "import torch\n",
        "import torch.nn as nn\n",
        "import torch.nn.functional as F\n",
        "import torch.optim as optim"
      ]
    },
    {
      "cell_type": "code",
      "execution_count": 2,
      "metadata": {
        "colab": {
          "base_uri": "https://localhost:8080/"
        },
        "id": "UlhgeGGIq4Av",
        "outputId": "14f6eed5-c592-45a7-e94f-38ebc40bbedf"
      },
      "outputs": [
        {
          "data": {
            "text/plain": [
              "<All keys matched successfully>"
            ]
          },
          "execution_count": 2,
          "metadata": {},
          "output_type": "execute_result"
        }
      ],
      "source": [
        "#edit all instances of 0 in this cell to reflect your team number\n",
        "#If this cell runs correctly it will output <All keys matched succesfully>\n",
        "from handwritten_digit_classifier import Digit_Classifier\n",
        "\n",
        "model0 = Digit_Classifier() #change numbers in this line\n",
        "model0.load_state_dict(torch.load('./weights.pth')) #I have it saved in this folder, change this to whatever folder you have this saved in"
      ]
    },
    {
      "cell_type": "code",
      "execution_count": 5,
      "metadata": {
        "colab": {
          "base_uri": "https://localhost:8080/",
          "height": 301
        },
        "id": "TFKy9zG9q6eA",
        "outputId": "d15ffdf9-77a9-463d-ff83-b713dadd33dd"
      },
      "outputs": [
        {
          "name": "stdout",
          "output_type": "stream",
          "text": [
            "(28, 28)\n",
            "The model guessed 0\n"
          ]
        },
        {
          "data": {
            "image/png": "[encoded data removed]",
            "text/plain": [
              "<Figure size 640x480 with 1 Axes>"
            ]
          },
          "metadata": {},
          "output_type": "display_data"
        }
      ],
      "source": [
        "img = Image.open('./2.png').convert('L') #change the file path here\n",
        "img = ImageOps.invert(img)\n",
        "image = np.array(img)\n",
        "print(image.shape)\n",
        "plt.imshow(image.squeeze(), cmap='gray_r')\n",
        "\n",
        "guess0 = torch.argmax(model0(torch.tensor(image).float())).item() #change number in this line\n",
        "print('The model guessed', guess0)"
      ]
    }
  ],
  "metadata": {
    "colab": {
      "provenance": []
    },
    "kernelspec": {
      "display_name": "Python 3",
      "name": "python3"
    },
    "language_info": {
      "codemirror_mode": {
        "name": "ipython",
        "version": 3
      },
      "file_extension": ".py",
      "mimetype": "text/x-python",
      "name": "python",
      "nbconvert_exporter": "python",
      "pygments_lexer": "ipython3",
      "version": "3.10.7"
    }
  },
  "nbformat": 4,
  "nbformat_minor": 0
}
