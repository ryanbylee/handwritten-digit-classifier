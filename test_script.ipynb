{
  "cells": [
    {
      "cell_type": "code",
      "execution_count": 1,
      "metadata": {
        "id": "JEzEsvbAccOY"
      },
      "outputs": [],
      "source": [
        "import numpy as np\n",
        "from PIL import Image, ImageOps\n",
        "import matplotlib.pyplot as plt\n",
        "import torch\n",
        "import torch.nn as nn\n",
        "import torch.nn.functional as F\n",
        "import torch.optim as optim"
      ]
    },
    {
      "cell_type": "code",
      "execution_count": 2,
      "metadata": {
        "colab": {
          "base_uri": "https://localhost:8080/"
        },
        "id": "UlhgeGGIq4Av",
        "outputId": "14f6eed5-c592-45a7-e94f-38ebc40bbedf"
      },
      "outputs": [
        {
          "data": {
            "text/plain": [
              "<All keys matched successfully>"
            ]
          },
          "execution_count": 2,
          "metadata": {},
          "output_type": "execute_result"
        }
      ],
      "source": [
        "from CNN_class import Digit_Classifier\n",
        "\n",
        "model = Digit_Classifier() \n",
        "model.load_state_dict(torch.load('./weights.pth'))"
      ]
    },
    {
      "cell_type": "code",
      "execution_count": 3,
      "metadata": {
        "colab": {
          "base_uri": "https://localhost:8080/",
          "height": 301
        },
        "id": "TFKy9zG9q6eA",
        "outputId": "d15ffdf9-77a9-463d-ff83-b713dadd33dd"
      },
      "outputs": [
        {
          "name": "stdout",
          "output_type": "stream",
          "text": [
            "(28, 28)\n",
            "Expected 0 \tThe model guessed 0\n",
            "(28, 28)\n",
            "Expected 1 \tThe model guessed 1\n",
            "(28, 28)\n",
            "Expected 2 \tThe model guessed 2\n",
            "(28, 28)\n",
            "Expected 3 \tThe model guessed 3\n",
            "(28, 28)\n",
            "Expected 4 \tThe model guessed 4\n",
            "(28, 28)\n",
            "Expected 5 \tThe model guessed 5\n",
            "(28, 28)\n",
            "Expected 6 \tThe model guessed 6\n",
            "(28, 28)\n",
            "Expected 7 \tThe model guessed 7\n",
            "(28, 28)\n",
            "Expected 8 \tThe model guessed 8\n",
            "(28, 28)\n",
            "Expected 9 \tThe model guessed 9\n",
            "CHECK INVERTED\n",
            "(28, 28)\n",
            "Expected 0 \tThe model guessed 0\n",
            "(28, 28)\n",
            "Expected 1 \tThe model guessed 1\n",
            "(28, 28)\n",
            "Expected 2 \tThe model guessed 2\n",
            "(28, 28)\n",
            "Expected 3 \tThe model guessed 3\n",
            "(28, 28)\n",
            "Expected 4 \tThe model guessed 4\n",
            "(28, 28)\n",
            "Expected 5 \tThe model guessed 5\n",
            "(28, 28)\n",
            "Expected 6 \tThe model guessed 6\n",
            "(28, 28)\n",
            "Expected 7 \tThe model guessed 7\n",
            "(28, 28)\n",
            "Expected 8 \tThe model guessed 8\n",
            "(28, 28)\n",
            "Expected 9 \tThe model guessed 9\n"
          ]
        },
        {
          "data": {
            "image/png": "[encoded data removed]",
            "text/plain": [
              "<Figure size 640x480 with 1 Axes>"
            ]
          },
          "metadata": {},
          "output_type": "display_data"
        }
      ],
      "source": [
        "for i in range(10):\n",
        "  img = Image.open(f'./{i}.png').convert('L') \n",
        "  img = ImageOps.invert(img)\n",
        "  image = np.array(img)\n",
        "  print(image.shape)\n",
        "  plt.imshow(image.squeeze(), cmap='gray_r')\n",
        "\n",
        "  guess0 = torch.argmax(model(torch.tensor(image).float())).item() \n",
        "  print('Expected', i, '\\tThe model guessed', guess0)\n",
        "\n",
        "print(\"CHECK INVERTED\")\n",
        "for i in range(10):\n",
        "  img = Image.open(f'./{i}inverse.png').convert('L') \n",
        "  img = ImageOps.invert(img)\n",
        "  image = np.array(img)\n",
        "  print(image.shape)\n",
        "  plt.imshow(image.squeeze(), cmap='gray_r')\n",
        "\n",
        "  guess0 = torch.argmax(model(torch.tensor(image).float())).item()\n",
        "  print('Expected', i, '\\tThe model guessed', guess0)"
      ]
    }
  ],
  "metadata": {
    "colab": {
      "provenance": []
    },
    "kernelspec": {
      "display_name": "Python 3",
      "name": "python3"
    },
    "language_info": {
      "codemirror_mode": {
        "name": "ipython",
        "version": 3
      },
      "file_extension": ".py",
      "mimetype": "text/x-python",
      "name": "python",
      "nbconvert_exporter": "python",
      "pygments_lexer": "ipython3",
      "version": "3.10.7"
    }
  },
  "nbformat": 4,
  "nbformat_minor": 0
}
