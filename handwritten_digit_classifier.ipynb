{
  "nbformat": 4,
  "nbformat_minor": 0,
  "metadata": {
    "colab": {
      "provenance": []
    },
    "kernelspec": {
      "name": "python3",
      "display_name": "Python 3"
    },
    "language_info": {
      "name": "python"
    }
  },
  "cells": [
    {
      "cell_type": "markdown",
      "source": [
        "### Final Project Skeleton Code\n",
        "This notebook is meant to be skeleton code for the final project. We have filled in the code to allow you to download the dataset and train your neural network on it. We have not made the neural network for you. All of the specifics, including layer sizes and hyperparameters, are up to you to decide. Some of this code may not work perfectly for you, so you will have to read it and understand what is going on so that you can create your neural network. The testing cell at the end is how we will be testing your neural networks, so be sure that whatever you do, it works with that cell. (For example: do any data processing such as flattening and padding in the forward function rather than in the testing loop as we will not be editing our testing loop to reflect any of those changes)"
      ],
      "metadata": {
        "id": "IGDfimpAgFUB"
      }
    },
    {
      "cell_type": "code",
      "execution_count": null,
      "metadata": {
        "id": "V3mCzc_XR3Tt",
        "colab": {
          "base_uri": "https://localhost:8080/"
        },
        "outputId": "20d3a7e4-2fcf-4ade-b98d-33dcd4e26c50"
      },
      "outputs": [
        {
          "output_type": "stream",
          "name": "stdout",
          "text": [
            "Looking in indexes: https://pypi.org/simple, https://us-python.pkg.dev/colab-wheels/public/simple/\n",
            "Requirement already satisfied: torch in /usr/local/lib/python3.7/dist-packages (1.12.1+cu113)\n",
            "Requirement already satisfied: typing-extensions in /usr/local/lib/python3.7/dist-packages (from torch) (4.1.1)\n"
          ]
        }
      ],
      "source": [
        "!pip install torch"
      ]
    },
    {
      "cell_type": "markdown",
      "source": [
        "### Import Libraries"
      ],
      "metadata": {
        "id": "3C61-YqIdrw5"
      }
    },
    {
      "cell_type": "code",
      "source": [
        "import torch\n",
        "import torch.nn as nn\n",
        "import torch.nn.functional as F\n",
        "import torchvision\n",
        "import numpy as np\n",
        "import matplotlib.pyplot as plt"
      ],
      "metadata": {
        "id": "rEoTTz1gVZ8x"
      },
      "execution_count": null,
      "outputs": []
    },
    {
      "cell_type": "code",
      "source": [
        "from google.colab import drive\n",
        "drive.mount('/content/gdrive')"
      ],
      "metadata": {
        "colab": {
          "base_uri": "https://localhost:8080/"
        },
        "id": "J788lLi2YSN-",
        "outputId": "242e3fc3-f795-4370-fce5-3a04b33e10d4"
      },
      "execution_count": null,
      "outputs": [
        {
          "output_type": "stream",
          "name": "stdout",
          "text": [
            "Mounted at /content/gdrive\n"
          ]
        }
      ]
    },
    {
      "cell_type": "markdown",
      "source": [
        "### Download training and testing data"
      ],
      "metadata": {
        "id": "ag7lApFmdrFY"
      }
    },
    {
      "cell_type": "code",
      "source": [
        "#The line below gets the dataset and downloads it into the specified path\n",
        "dataset = torchvision.datasets.MNIST('PATH_FOR_TRAINING_SET', download=True, train=True) # consider how to separate this into multiple datasets\n",
        "\n",
        "#PyTorch uses dataloaders which you can learn about here: https://pytorch.org/tutorials/beginner/basics/data_tutorial.html\n",
        "#This is a convenient module for training, it automatically prepares your data for training with a given batch size.\n",
        "#The shuffle argument will automatically randomize the order of your data (but will keep inputs with associated outputs!)\n",
        "trainloader = torch.utils.data.DataLoader(trainset, batch_size = 64, shuffle = True)"
      ],
      "metadata": {
        "id": "Gbkb6bjEVfLS"
      },
      "execution_count": null,
      "outputs": []
    },
    {
      "cell_type": "markdown",
      "source": [
        "### Create dataloaders and visualize some examples"
      ],
      "metadata": {
        "id": "PC3bdxgfdlOk"
      }
    },
    {
      "cell_type": "code",
      "source": [
        "dataiter = iter(trainloader)\n",
        "images, labels = dataiter.next()\n",
        "\n",
        "print(images.shape)\n",
        "print(labels.shape)\n",
        "\n",
        "figure = plt.figure()\n",
        "num_of_images = 60\n",
        "for index in range(1, num_of_images + 1):\n",
        "    plt.subplot(6, 10, index)\n",
        "    plt.axis('off')\n",
        "    plt.imshow(images[index].numpy().squeeze(), cmap='gray_r')"
      ],
      "metadata": {
        "id": "IerZ_c3Na7Yx"
      },
      "execution_count": null,
      "outputs": []
    },
    {
      "cell_type": "markdown",
      "source": [
        "### Model Initialization"
      ],
      "metadata": {
        "id": "m1dr4RBMdgsj"
      }
    },
    {
      "cell_type": "code",
      "source": [
        "#This is your neural network class, so it must extend nn.Module\n",
        "#For your final submission you will be submitting this cell as its own file\n",
        "class Digit_Classifier(nn.Module):\n",
        "  def __init__(self):\n",
        "    #Handle some under-the-hood PyTorch stuff\n",
        "    super().__init__()\n",
        "    \n",
        "    #Now put your layers below in addition to any other member variables you need\n",
        "    #\n",
        "\n",
        "  def forward(self, x):\n",
        "    #Now here you add your forward pass, e.g. how the layers fit together\n",
        "    #Tips:\n",
        "    # 1. Don't forget the ReLU layer when needed\n",
        "    # 2. Consider normalization\n",
        "    # 3. If you are getting errors look at your dimensions, dimension errors are very easy to make!\n",
        "    # 4. CNN layers take in rectangular (or square) inputs and give rectangular (or square) outputs. Fully connected layers have input and output that are vectors, when you need to switch between the two consider using a flatten or reshape\n",
        "    pass\n",
        "\n",
        "  #Optional: any other member functions that you think would be helpful"
      ],
      "metadata": {
        "id": "06HPHOzEbJJE"
      },
      "execution_count": null,
      "outputs": []
    },
    {
      "cell_type": "code",
      "source": [
        "#Instantiate your model:\n",
        "model = Digit_Classifier()"
      ],
      "metadata": {
        "id": "wvoki-9bcroi"
      },
      "execution_count": null,
      "outputs": []
    },
    {
      "cell_type": "markdown",
      "source": [
        "### Hyperparameters Tuning"
      ],
      "metadata": {
        "id": "Y_PKaBjydcTH"
      }
    },
    {
      "cell_type": "code",
      "source": [
        "#hyperparameters: currently all are set to 1, it is up to you to figure out what they should be\n",
        "#Don't just randomly change the hyperparameters: consider what each of them are changing (look in the code to find where the actually affect things)\n",
        "num_epochs = 1\n",
        "learning_rate = 1\n",
        "momentum = 1\n",
        "criterion = nn.TOTALLYREALLOSSFUNCTION() #consider using these loss functions: https://pytorch.org/docs/stable/nn.html#loss-functions\n",
        "optimizer = torch.optim.TOTALLYREALOPTIMIZER(model.parameters(), lr=learning_rate, momentum=momentum) #consider using these optimizers: https://pytorch.org/docs/stable/optim.html#algorithms"
      ],
      "metadata": {
        "id": "1POcFfXFcW4A"
      },
      "execution_count": null,
      "outputs": []
    },
    {
      "cell_type": "markdown",
      "source": [
        "### Model Training"
      ],
      "metadata": {
        "id": "S_s9viccdZhK"
      }
    },
    {
      "cell_type": "code",
      "source": [
        "#Consider how you will keep track of losses, it would be great to have graphs of your loss over time in your final presentation\n",
        "running_loss = []\n",
        "\n",
        "#Training loop\n",
        "model.train()\n",
        "for i in range(num_epochs):\n",
        "  for images, labels in trainloader:\n",
        "    # do any preprocessing, for example flattening if needed\n",
        "\n",
        "    #zero out the gradients\n",
        "\n",
        "    #Calculate the output\n",
        "\n",
        "    #Calculate the loss of the output, note: labels are the ACTUAL image labels, whereas output are your models guesses\n",
        "\n",
        "    #Backpropagation (this is the part where we take the gradients [multivariable derivatives] of all the weights)\n",
        "\n",
        "    #This is the part where we actually update the weights: how is learning_rate related to this step?\n",
        "\n",
        "    #Consider adding some checking here to see how your loss has been doing over time, this will save you a lot of time if you can notice immediate issues\n",
        "    #While this is not required it is HIGHLY recommended, try to do it yourself but reach out if you need help"
      ],
      "metadata": {
        "id": "m0lLkcJ0dYVu"
      },
      "execution_count": null,
      "outputs": []
    },
    {
      "cell_type": "markdown",
      "source": [
        "### Save your model"
      ],
      "metadata": {
        "id": "KT26dR_kdSEo"
      }
    },
    {
      "cell_type": "code",
      "source": [
        "#Save your model weights (this will generate a file that you will have to submit to us)\n",
        "torch.save(model.state_dict(), 'PATH_TO_WHERE_YOU_WANT_TO_SAVE/weights.pth')"
      ],
      "metadata": {
        "id": "L4rlb-YQfEWZ"
      },
      "execution_count": null,
      "outputs": []
    },
    {
      "cell_type": "markdown",
      "source": [
        "### Evaluate Test Accuracy"
      ],
      "metadata": {
        "id": "DjtkJ9PvdVNh"
      }
    },
    {
      "cell_type": "code",
      "source": [
        "model.eval()\n",
        "correct = 0\n",
        "total = 0\n",
        "\n",
        "#ensure gradients won't get changed\n",
        "with torch.no_grad():\n",
        "  for images, labels in testloader:\n",
        "    for i in range(len(labels)):\n",
        "      #do any preprocessing\n",
        "\n",
        "      #calculate the output\n",
        "      output = model(images[i])\n",
        "\n",
        "      predicted_label = output.index(max(output))\n",
        "\n",
        "      if predicted_label == labels[i]:\n",
        "        correct += 1\n",
        "      total += 1\n",
        "\n",
        "print(\"Test accuracy: \", correct/total)"
      ],
      "metadata": {
        "id": "KIy2JbM-fT1z"
      },
      "execution_count": null,
      "outputs": []
    }
  ]
}